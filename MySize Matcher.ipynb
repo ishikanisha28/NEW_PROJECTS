{
 "cells": [
  {
   "cell_type": "code",
   "execution_count": 2,
   "id": "2bf80f2e",
   "metadata": {},
   "outputs": [
    {
     "data": {
      "application/vnd.jupyter.widget-view+json": {
       "model_id": "cdf21791f3374ca492a4492792b984f7",
       "version_major": 2,
       "version_minor": 0
      },
      "text/plain": [
       "VBox(children=(FloatText(value=0.0, description='Bust (in):'), FloatText(value=0.0, description='Waist (in):')…"
      ]
     },
     "execution_count": 2,
     "metadata": {},
     "output_type": "execute_result"
    }
   ],
   "source": [
    "# Import necessary libraries\n",
    "import ipywidgets as widgets\n",
    "from IPython.display import display\n",
    "\n",
    "# Function to determine clothing size\n",
    "def determine_clothing_size(bust, waist, hips):\n",
    "    \"\"\"\n",
    "    Determine the most appropriate clothing size based on bust, waist, and hip measurements.\n",
    "    This algorithm finds the closest size for each measurement and then determines the best overall size.\n",
    "    \"\"\"\n",
    "    size_chart = {\n",
    "        'XS': {'bust': (30, 32), 'waist': (23, 24), 'hips': (33, 34)},\n",
    "        'S':  {'bust': (33, 34), 'waist': (25, 26), 'hips': (35, 36)},\n",
    "        'M':  {'bust': (35, 37), 'waist': (27, 28), 'hips': (37, 38)},\n",
    "        'L':  {'bust': (38, 40), 'waist': (29, 31), 'hips': (39, 42)},\n",
    "        'XL': {'bust': (41, 43), 'waist': (32, 34), 'hips': (43, 45)},\n",
    "        'XXL':{'bust': (44, 46), 'waist': (35, 37), 'hips': (46, 48)},\n",
    "    }\n",
    "\n",
    "    # Find the closest size for each measurement\n",
    "    closest_sizes = {'bust': None, 'waist': None, 'hips': None}\n",
    "    for measurement, value in [('bust', bust), ('waist', waist), ('hips', hips)]:\n",
    "        min_diff = float('inf')\n",
    "        for size, ranges in size_chart.items():\n",
    "            if ranges[measurement][0] <= value <= ranges[measurement][1]:\n",
    "                closest_sizes[measurement] = size\n",
    "                break\n",
    "            else:\n",
    "                diff = min(abs(value - ranges[measurement][0]), abs(value - ranges[measurement][1]))\n",
    "                if diff < min_diff:\n",
    "                    min_diff = diff\n",
    "                    closest_sizes[measurement] = size\n",
    "\n",
    "    # Determine the best overall size\n",
    "    size_votes = {size: 0 for size in size_chart.keys()}\n",
    "    for size in closest_sizes.values():\n",
    "        size_votes[size] += 1\n",
    "\n",
    "    best_size = max(size_votes, key=size_votes.get)\n",
    "    return best_size\n",
    "\n",
    "\n",
    "# Widgets for input\n",
    "bust_input = widgets.FloatText(description='Bust (in):')\n",
    "waist_input = widgets.FloatText(description='Waist (in):')\n",
    "hips_input = widgets.FloatText(description='Hips (in):')\n",
    "submit_button = widgets.Button(description='Submit')\n",
    "output = widgets.Output()\n",
    "\n",
    "# Function to handle submit button click event\n",
    "def on_submit_button_clicked(b):\n",
    "    with output:\n",
    "        output.clear_output()\n",
    "        try:\n",
    "            bust = bust_input.value\n",
    "            waist = waist_input.value\n",
    "            hips = hips_input.value\n",
    "            if bust <= 0 or waist <= 0 or hips <= 0 or bust > 100 or waist > 100 or hips > 100:\n",
    "                print(\"Please enter positive numbers (max 100 inches).\")\n",
    "            else:\n",
    "                size = determine_clothing_size(bust, waist, hips)\n",
    "                print(f\"The size that suits you best is: {size}\")\n",
    "        except ValueError as e:\n",
    "            print(\"Invalid input:\", e)\n",
    "\n",
    "submit_button.on_click(on_submit_button_clicked)\n",
    "\n",
    "# Display the widgets\n",
    "widgets.VBox([bust_input, waist_input, hips_input, submit_button, output])\n",
    "\n",
    "\n"
   ]
  },
  {
   "cell_type": "code",
   "execution_count": null,
   "id": "1027172e",
   "metadata": {},
   "outputs": [],
   "source": []
  }
 ],
 "metadata": {
  "kernelspec": {
   "display_name": "Python 3 (ipykernel)",
   "language": "python",
   "name": "python3"
  },
  "language_info": {
   "codemirror_mode": {
    "name": "ipython",
    "version": 3
   },
   "file_extension": ".py",
   "mimetype": "text/x-python",
   "name": "python",
   "nbconvert_exporter": "python",
   "pygments_lexer": "ipython3",
   "version": "3.9.7"
  }
 },
 "nbformat": 4,
 "nbformat_minor": 5
}
